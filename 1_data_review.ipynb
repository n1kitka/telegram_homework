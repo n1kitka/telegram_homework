{
 "cells": [
  {
   "cell_type": "markdown",
   "id": "680ac1fd",
   "metadata": {},
   "source": [
    "## Homework #3. Crowdsourcing tools review\n",
    "#### Author: `<Nikita> <Savenko>`\n",
    "#### Total time spent on h/w (in minutes): `<300>`"
   ]
  },
  {
   "cell_type": "code",
   "execution_count": 3,
   "id": "09b4e301",
   "metadata": {
    "scrolled": true
   },
   "outputs": [],
   "source": [
    "import pandas as pd\n",
    "import matplotlib.pyplot as plt\n",
    "import numpy as np\n",
    "import seaborn as sns\n"
   ]
  },
  {
   "cell_type": "code",
   "execution_count": 4,
   "id": "d076df7c",
   "metadata": {},
   "outputs": [],
   "source": [
    "DIALOGS_MERGED_DATA_PATH = \"F:/DS naukma/data/merged_data/dialogs_data_all.csv\"\n",
    "DIALOGS_META_MERGED_DATA_PATH = \"F:/DS naukma/data/merged_data/dialogs_users_all.csv\""
   ]
  },
  {
   "cell_type": "code",
   "execution_count": 5,
   "id": "6d0eddab",
   "metadata": {},
   "outputs": [
    {
     "name": "stderr",
     "output_type": "stream",
     "text": [
      "C:\\anaconda3\\lib\\site-packages\\IPython\\core\\interactiveshell.py:3444: DtypeWarning: Columns (3) have mixed types.Specify dtype option on import or set low_memory=False.\n",
      "  exec(code_obj, self.user_global_ns, self.user_ns)\n"
     ]
    }
   ],
   "source": [
    "df = pd.read_csv(DIALOGS_MERGED_DATA_PATH)\n",
    "df_meta = pd.read_csv(DIALOGS_META_MERGED_DATA_PATH)"
   ]
  },
  {
   "cell_type": "markdown",
   "id": "965d42ec",
   "metadata": {},
   "source": [
    "## Task 2.1\n",
    "## Messages data analysis"
   ]
  },
  {
   "cell_type": "code",
   "execution_count": 41,
   "id": "4672e8ce",
   "metadata": {},
   "outputs": [
    {
     "data": {
      "text/html": [
       "<div>\n",
       "<style scoped>\n",
       "    .dataframe tbody tr th:only-of-type {\n",
       "        vertical-align: middle;\n",
       "    }\n",
       "\n",
       "    .dataframe tbody tr th {\n",
       "        vertical-align: top;\n",
       "    }\n",
       "\n",
       "    .dataframe thead th {\n",
       "        text-align: right;\n",
       "    }\n",
       "</style>\n",
       "<table border=\"1\" class=\"dataframe\">\n",
       "  <thead>\n",
       "    <tr style=\"text-align: right;\">\n",
       "      <th></th>\n",
       "      <th>id</th>\n",
       "      <th>date</th>\n",
       "      <th>from_id</th>\n",
       "      <th>to_id</th>\n",
       "      <th>fwd_from</th>\n",
       "      <th>message</th>\n",
       "      <th>type</th>\n",
       "      <th>duration</th>\n",
       "      <th>dialog_id</th>\n",
       "    </tr>\n",
       "  </thead>\n",
       "  <tbody>\n",
       "    <tr>\n",
       "      <th>0</th>\n",
       "      <td>1397</td>\n",
       "      <td>2022-02-21 19:00:12+00:00</td>\n",
       "      <td>NaN</td>\n",
       "      <td>PeerChannel(channel_id=1073261085)</td>\n",
       "      <td>MessageFwdHeader(date=datetime.datetime(2022, ...</td>\n",
       "      <td>🔺Любиш-піди! Спудейський вісник №4 \\n\\nПередос...</td>\n",
       "      <td>photo</td>\n",
       "      <td>NaN</td>\n",
       "      <td>-1001073261085</td>\n",
       "    </tr>\n",
       "    <tr>\n",
       "      <th>1</th>\n",
       "      <td>1396</td>\n",
       "      <td>2022-02-21 18:36:27+00:00</td>\n",
       "      <td>NaN</td>\n",
       "      <td>PeerChannel(channel_id=1073261085)</td>\n",
       "      <td>NaN</td>\n",
       "      <td>💣 Офлайн-засідання дебатного клубу\\n\\n23.02.22...</td>\n",
       "      <td>photo</td>\n",
       "      <td>NaN</td>\n",
       "      <td>-1001073261085</td>\n",
       "    </tr>\n",
       "    <tr>\n",
       "      <th>2</th>\n",
       "      <td>1395</td>\n",
       "      <td>2022-02-21 13:42:38+00:00</td>\n",
       "      <td>NaN</td>\n",
       "      <td>PeerChannel(channel_id=1073261085)</td>\n",
       "      <td>NaN</td>\n",
       "      <td>🚇 На станції метро «Контрактова площа» 23 люто...</td>\n",
       "      <td>text</td>\n",
       "      <td>NaN</td>\n",
       "      <td>-1001073261085</td>\n",
       "    </tr>\n",
       "    <tr>\n",
       "      <th>3</th>\n",
       "      <td>1394</td>\n",
       "      <td>2022-02-18 19:05:37+00:00</td>\n",
       "      <td>NaN</td>\n",
       "      <td>PeerChannel(channel_id=1073261085)</td>\n",
       "      <td>NaN</td>\n",
       "      <td>📸 Відбудеться \"Фотолюбов НаУКМА\"\\n\\n19.02.22 (...</td>\n",
       "      <td>photo</td>\n",
       "      <td>NaN</td>\n",
       "      <td>-1001073261085</td>\n",
       "    </tr>\n",
       "    <tr>\n",
       "      <th>4</th>\n",
       "      <td>1393</td>\n",
       "      <td>2022-02-17 11:30:32+00:00</td>\n",
       "      <td>NaN</td>\n",
       "      <td>PeerChannel(channel_id=1073261085)</td>\n",
       "      <td>NaN</td>\n",
       "      <td>👥 Набір в Асоціацію студентів політологів  \\n\\...</td>\n",
       "      <td>photo</td>\n",
       "      <td>NaN</td>\n",
       "      <td>-1001073261085</td>\n",
       "    </tr>\n",
       "  </tbody>\n",
       "</table>\n",
       "</div>"
      ],
      "text/plain": [
       "     id                      date from_id                               to_id  \\\n",
       "0  1397 2022-02-21 19:00:12+00:00     NaN  PeerChannel(channel_id=1073261085)   \n",
       "1  1396 2022-02-21 18:36:27+00:00     NaN  PeerChannel(channel_id=1073261085)   \n",
       "2  1395 2022-02-21 13:42:38+00:00     NaN  PeerChannel(channel_id=1073261085)   \n",
       "3  1394 2022-02-18 19:05:37+00:00     NaN  PeerChannel(channel_id=1073261085)   \n",
       "4  1393 2022-02-17 11:30:32+00:00     NaN  PeerChannel(channel_id=1073261085)   \n",
       "\n",
       "                                            fwd_from  \\\n",
       "0  MessageFwdHeader(date=datetime.datetime(2022, ...   \n",
       "1                                                NaN   \n",
       "2                                                NaN   \n",
       "3                                                NaN   \n",
       "4                                                NaN   \n",
       "\n",
       "                                             message   type  duration  \\\n",
       "0  🔺Любиш-піди! Спудейський вісник №4 \\n\\nПередос...  photo       NaN   \n",
       "1  💣 Офлайн-засідання дебатного клубу\\n\\n23.02.22...  photo       NaN   \n",
       "2  🚇 На станції метро «Контрактова площа» 23 люто...   text       NaN   \n",
       "3  📸 Відбудеться \"Фотолюбов НаУКМА\"\\n\\n19.02.22 (...  photo       NaN   \n",
       "4  👥 Набір в Асоціацію студентів політологів  \\n\\...  photo       NaN   \n",
       "\n",
       "       dialog_id  \n",
       "0 -1001073261085  \n",
       "1 -1001073261085  \n",
       "2 -1001073261085  \n",
       "3 -1001073261085  \n",
       "4 -1001073261085  "
      ]
     },
     "execution_count": 41,
     "metadata": {},
     "output_type": "execute_result"
    }
   ],
   "source": [
    "df.head(5)"
   ]
  },
  {
   "cell_type": "code",
   "execution_count": 5,
   "id": "16776850",
   "metadata": {},
   "outputs": [
    {
     "data": {
      "text/plain": [
       "(421288, 9)"
      ]
     },
     "execution_count": 5,
     "metadata": {},
     "output_type": "execute_result"
    }
   ],
   "source": [
    "df.shape"
   ]
  },
  {
   "cell_type": "code",
   "execution_count": 6,
   "id": "d1bd96f3",
   "metadata": {},
   "outputs": [
    {
     "data": {
      "text/plain": [
       "('2017-10-17 13:54:19+00:00', '2022-02-22 09:16:53+00:00')"
      ]
     },
     "execution_count": 6,
     "metadata": {},
     "output_type": "execute_result"
    }
   ],
   "source": [
    "min(df[\"date\"]),max(df[\"date\"])"
   ]
  },
  {
   "cell_type": "code",
   "execution_count": 7,
   "id": "2a1aafab",
   "metadata": {},
   "outputs": [
    {
     "data": {
      "text/plain": [
       "type\n",
       "photo       23572\n",
       "sticker     12767\n",
       "text       374864\n",
       "video        7549\n",
       "voice        2536\n",
       "Name: type, dtype: int64"
      ]
     },
     "execution_count": 7,
     "metadata": {},
     "output_type": "execute_result"
    }
   ],
   "source": [
    "df.groupby([\"type\"])[\"type\"].count()"
   ]
  },
  {
   "cell_type": "code",
   "execution_count": 8,
   "id": "66a677a9",
   "metadata": {
    "scrolled": true
   },
   "outputs": [
    {
     "data": {
      "text/plain": [
       "type\n",
       "photo           0.0\n",
       "sticker         0.0\n",
       "text            0.0\n",
       "video      453362.0\n",
       "voice       52255.0\n",
       "Name: duration, dtype: float64"
      ]
     },
     "execution_count": 8,
     "metadata": {},
     "output_type": "execute_result"
    }
   ],
   "source": [
    "df.groupby([\"type\"])[\"duration\"].sum()"
   ]
  },
  {
   "cell_type": "markdown",
   "id": "451dca5a",
   "metadata": {},
   "source": [
    "## Tasks to do:\n",
    "\n",
    "1. Define your telegram ID (https://www.alphr.com/telegram-find-user-id/)."
   ]
  },
  {
   "cell_type": "code",
   "execution_count": 9,
   "id": "b251314f",
   "metadata": {},
   "outputs": [],
   "source": [
    "my_id = 419413633"
   ]
  },
  {
   "cell_type": "markdown",
   "id": "90150527",
   "metadata": {},
   "source": [
    "2. Check on examples that the data you downloaded reflects your telegram messages. Make screenshots (insert your screenshots in this notebook) of 3 different messages in TG and related rows in your dataset here."
   ]
  },
  {
   "cell_type": "code",
   "execution_count": 10,
   "id": "9212d9cf",
   "metadata": {
    "scrolled": true
   },
   "outputs": [
    {
     "data": {
      "text/html": [
       "<div>\n",
       "<style scoped>\n",
       "    .dataframe tbody tr th:only-of-type {\n",
       "        vertical-align: middle;\n",
       "    }\n",
       "\n",
       "    .dataframe tbody tr th {\n",
       "        vertical-align: top;\n",
       "    }\n",
       "\n",
       "    .dataframe thead th {\n",
       "        text-align: right;\n",
       "    }\n",
       "</style>\n",
       "<table border=\"1\" class=\"dataframe\">\n",
       "  <thead>\n",
       "    <tr style=\"text-align: right;\">\n",
       "      <th></th>\n",
       "      <th>id</th>\n",
       "      <th>date</th>\n",
       "      <th>from_id</th>\n",
       "      <th>to_id</th>\n",
       "      <th>fwd_from</th>\n",
       "      <th>message</th>\n",
       "      <th>type</th>\n",
       "      <th>duration</th>\n",
       "      <th>dialog_id</th>\n",
       "    </tr>\n",
       "  </thead>\n",
       "  <tbody>\n",
       "    <tr>\n",
       "      <th>390503</th>\n",
       "      <td>218219</td>\n",
       "      <td>2022-02-22 08:55:29+00:00</td>\n",
       "      <td>PeerUser(user_id=419413633)</td>\n",
       "      <td>387335969</td>\n",
       "      <td>NaN</td>\n",
       "      <td>го</td>\n",
       "      <td>text</td>\n",
       "      <td>NaN</td>\n",
       "      <td>387335969</td>\n",
       "    </tr>\n",
       "    <tr>\n",
       "      <th>390506</th>\n",
       "      <td>218216</td>\n",
       "      <td>2022-02-22 08:55:19+00:00</td>\n",
       "      <td>PeerUser(user_id=419413633)</td>\n",
       "      <td>387335969</td>\n",
       "      <td>NaN</td>\n",
       "      <td>у меня они в папку уже выкачались</td>\n",
       "      <td>text</td>\n",
       "      <td>NaN</td>\n",
       "      <td>387335969</td>\n",
       "    </tr>\n",
       "    <tr>\n",
       "      <th>390507</th>\n",
       "      <td>218215</td>\n",
       "      <td>2022-02-22 08:54:57+00:00</td>\n",
       "      <td>PeerUser(user_id=419413633)</td>\n",
       "      <td>387335969</td>\n",
       "      <td>NaN</td>\n",
       "      <td>NaN</td>\n",
       "      <td>photo</td>\n",
       "      <td>NaN</td>\n",
       "      <td>387335969</td>\n",
       "    </tr>\n",
       "    <tr>\n",
       "      <th>390511</th>\n",
       "      <td>218211</td>\n",
       "      <td>2022-02-22 08:53:49+00:00</td>\n",
       "      <td>PeerUser(user_id=419413633)</td>\n",
       "      <td>387335969</td>\n",
       "      <td>NaN</td>\n",
       "      <td>А это норм что у меня диалоги все за минуту вы...</td>\n",
       "      <td>text</td>\n",
       "      <td>NaN</td>\n",
       "      <td>387335969</td>\n",
       "    </tr>\n",
       "    <tr>\n",
       "      <th>390512</th>\n",
       "      <td>218210</td>\n",
       "      <td>2022-02-22 08:53:35+00:00</td>\n",
       "      <td>PeerUser(user_id=419413633)</td>\n",
       "      <td>387335969</td>\n",
       "      <td>NaN</td>\n",
       "      <td>Сань</td>\n",
       "      <td>text</td>\n",
       "      <td>NaN</td>\n",
       "      <td>387335969</td>\n",
       "    </tr>\n",
       "    <tr>\n",
       "      <th>...</th>\n",
       "      <td>...</td>\n",
       "      <td>...</td>\n",
       "      <td>...</td>\n",
       "      <td>...</td>\n",
       "      <td>...</td>\n",
       "      <td>...</td>\n",
       "      <td>...</td>\n",
       "      <td>...</td>\n",
       "      <td>...</td>\n",
       "    </tr>\n",
       "    <tr>\n",
       "      <th>392146</th>\n",
       "      <td>5</td>\n",
       "      <td>2018-01-22 19:28:29+00:00</td>\n",
       "      <td>PeerUser(user_id=419413633)</td>\n",
       "      <td>422835276</td>\n",
       "      <td>NaN</td>\n",
       "      <td>NaN</td>\n",
       "      <td>photo</td>\n",
       "      <td>NaN</td>\n",
       "      <td>422835276</td>\n",
       "    </tr>\n",
       "    <tr>\n",
       "      <th>392148</th>\n",
       "      <td>3</td>\n",
       "      <td>2018-01-22 19:28:29+00:00</td>\n",
       "      <td>PeerUser(user_id=419413633)</td>\n",
       "      <td>422835276</td>\n",
       "      <td>NaN</td>\n",
       "      <td>NaN</td>\n",
       "      <td>photo</td>\n",
       "      <td>NaN</td>\n",
       "      <td>422835276</td>\n",
       "    </tr>\n",
       "    <tr>\n",
       "      <th>392149</th>\n",
       "      <td>2</td>\n",
       "      <td>2018-01-22 19:28:29+00:00</td>\n",
       "      <td>PeerUser(user_id=419413633)</td>\n",
       "      <td>422835276</td>\n",
       "      <td>NaN</td>\n",
       "      <td>NaN</td>\n",
       "      <td>photo</td>\n",
       "      <td>NaN</td>\n",
       "      <td>422835276</td>\n",
       "    </tr>\n",
       "    <tr>\n",
       "      <th>392150</th>\n",
       "      <td>1</td>\n",
       "      <td>2018-01-22 19:28:29+00:00</td>\n",
       "      <td>PeerUser(user_id=419413633)</td>\n",
       "      <td>422835276</td>\n",
       "      <td>NaN</td>\n",
       "      <td>NaN</td>\n",
       "      <td>photo</td>\n",
       "      <td>NaN</td>\n",
       "      <td>422835276</td>\n",
       "    </tr>\n",
       "    <tr>\n",
       "      <th>392145</th>\n",
       "      <td>6</td>\n",
       "      <td>2018-01-22 19:28:29+00:00</td>\n",
       "      <td>PeerUser(user_id=419413633)</td>\n",
       "      <td>422835276</td>\n",
       "      <td>NaN</td>\n",
       "      <td>NaN</td>\n",
       "      <td>photo</td>\n",
       "      <td>NaN</td>\n",
       "      <td>422835276</td>\n",
       "    </tr>\n",
       "  </tbody>\n",
       "</table>\n",
       "<p>56668 rows × 9 columns</p>\n",
       "</div>"
      ],
      "text/plain": [
       "            id                       date                      from_id  \\\n",
       "390503  218219  2022-02-22 08:55:29+00:00  PeerUser(user_id=419413633)   \n",
       "390506  218216  2022-02-22 08:55:19+00:00  PeerUser(user_id=419413633)   \n",
       "390507  218215  2022-02-22 08:54:57+00:00  PeerUser(user_id=419413633)   \n",
       "390511  218211  2022-02-22 08:53:49+00:00  PeerUser(user_id=419413633)   \n",
       "390512  218210  2022-02-22 08:53:35+00:00  PeerUser(user_id=419413633)   \n",
       "...        ...                        ...                          ...   \n",
       "392146       5  2018-01-22 19:28:29+00:00  PeerUser(user_id=419413633)   \n",
       "392148       3  2018-01-22 19:28:29+00:00  PeerUser(user_id=419413633)   \n",
       "392149       2  2018-01-22 19:28:29+00:00  PeerUser(user_id=419413633)   \n",
       "392150       1  2018-01-22 19:28:29+00:00  PeerUser(user_id=419413633)   \n",
       "392145       6  2018-01-22 19:28:29+00:00  PeerUser(user_id=419413633)   \n",
       "\n",
       "            to_id fwd_from                                            message  \\\n",
       "390503  387335969      NaN                                                 го   \n",
       "390506  387335969      NaN                  у меня они в папку уже выкачались   \n",
       "390507  387335969      NaN                                                NaN   \n",
       "390511  387335969      NaN  А это норм что у меня диалоги все за минуту вы...   \n",
       "390512  387335969      NaN                                               Сань   \n",
       "...           ...      ...                                                ...   \n",
       "392146  422835276      NaN                                                NaN   \n",
       "392148  422835276      NaN                                                NaN   \n",
       "392149  422835276      NaN                                                NaN   \n",
       "392150  422835276      NaN                                                NaN   \n",
       "392145  422835276      NaN                                                NaN   \n",
       "\n",
       "         type  duration  dialog_id  \n",
       "390503   text       NaN  387335969  \n",
       "390506   text       NaN  387335969  \n",
       "390507  photo       NaN  387335969  \n",
       "390511   text       NaN  387335969  \n",
       "390512   text       NaN  387335969  \n",
       "...       ...       ...        ...  \n",
       "392146  photo       NaN  422835276  \n",
       "392148  photo       NaN  422835276  \n",
       "392149  photo       NaN  422835276  \n",
       "392150  photo       NaN  422835276  \n",
       "392145  photo       NaN  422835276  \n",
       "\n",
       "[56668 rows x 9 columns]"
      ]
     },
     "execution_count": 10,
     "metadata": {},
     "output_type": "execute_result"
    }
   ],
   "source": [
    "df[df['from_id'].str.contains(str(my_id), na = False)].sort_values(by='date', ascending=False)"
   ]
  },
  {
   "cell_type": "code",
   "execution_count": 49,
   "id": "e650566f",
   "metadata": {},
   "outputs": [],
   "source": [
    "df['date'] = pd.to_datetime(df.date)"
   ]
  },
  {
   "cell_type": "code",
   "execution_count": 50,
   "id": "8c5ba9ad",
   "metadata": {},
   "outputs": [
    {
     "data": {
      "text/plain": [
       "id                         int64\n",
       "date         datetime64[ns, UTC]\n",
       "from_id                   object\n",
       "to_id                     object\n",
       "fwd_from                  object\n",
       "message                   object\n",
       "type                      object\n",
       "duration                 float64\n",
       "dialog_id                  int64\n",
       "dtype: object"
      ]
     },
     "execution_count": 50,
     "metadata": {},
     "output_type": "execute_result"
    }
   ],
   "source": [
    "df.dtypes"
   ]
  },
  {
   "cell_type": "code",
   "execution_count": 121,
   "id": "55c82ab9",
   "metadata": {},
   "outputs": [
    {
     "data": {
      "text/plain": [
       "0            Monday\n",
       "1            Monday\n",
       "2            Monday\n",
       "3            Friday\n",
       "4          Thursday\n",
       "            ...    \n",
       "421283      Tuesday\n",
       "421284     Thursday\n",
       "421285      Tuesday\n",
       "421286    Wednesday\n",
       "421287    Wednesday\n",
       "Name: date, Length: 421288, dtype: object"
      ]
     },
     "execution_count": 121,
     "metadata": {},
     "output_type": "execute_result"
    }
   ],
   "source": [
    "df.date.dt.dayofweek"
   ]
  },
  {
   "cell_type": "code",
   "execution_count": 127,
   "id": "26d3af09",
   "metadata": {},
   "outputs": [],
   "source": [
    "df['day_of_week'] = df['date'].dt.dayofweek"
   ]
  },
  {
   "cell_type": "code",
   "execution_count": 138,
   "id": "83556f85",
   "metadata": {},
   "outputs": [
    {
     "data": {
      "text/html": [
       "<div>\n",
       "<style scoped>\n",
       "    .dataframe tbody tr th:only-of-type {\n",
       "        vertical-align: middle;\n",
       "    }\n",
       "\n",
       "    .dataframe tbody tr th {\n",
       "        vertical-align: top;\n",
       "    }\n",
       "\n",
       "    .dataframe thead th {\n",
       "        text-align: right;\n",
       "    }\n",
       "</style>\n",
       "<table border=\"1\" class=\"dataframe\">\n",
       "  <thead>\n",
       "    <tr style=\"text-align: right;\">\n",
       "      <th></th>\n",
       "      <th>id</th>\n",
       "      <th>date</th>\n",
       "      <th>from_id</th>\n",
       "      <th>to_id</th>\n",
       "      <th>fwd_from</th>\n",
       "      <th>message</th>\n",
       "      <th>type</th>\n",
       "      <th>duration</th>\n",
       "      <th>dialog_id</th>\n",
       "      <th>day_of_week</th>\n",
       "    </tr>\n",
       "  </thead>\n",
       "  <tbody>\n",
       "    <tr>\n",
       "      <th>0</th>\n",
       "      <td>1397</td>\n",
       "      <td>2022-02-21 19:00:12+00:00</td>\n",
       "      <td>NaN</td>\n",
       "      <td>PeerChannel(channel_id=1073261085)</td>\n",
       "      <td>MessageFwdHeader(date=datetime.datetime(2022, ...</td>\n",
       "      <td>🔺Любиш-піди! Спудейський вісник №4 \\n\\nПередос...</td>\n",
       "      <td>photo</td>\n",
       "      <td>NaN</td>\n",
       "      <td>-1001073261085</td>\n",
       "      <td>0</td>\n",
       "    </tr>\n",
       "    <tr>\n",
       "      <th>1</th>\n",
       "      <td>1396</td>\n",
       "      <td>2022-02-21 18:36:27+00:00</td>\n",
       "      <td>NaN</td>\n",
       "      <td>PeerChannel(channel_id=1073261085)</td>\n",
       "      <td>NaN</td>\n",
       "      <td>💣 Офлайн-засідання дебатного клубу\\n\\n23.02.22...</td>\n",
       "      <td>photo</td>\n",
       "      <td>NaN</td>\n",
       "      <td>-1001073261085</td>\n",
       "      <td>0</td>\n",
       "    </tr>\n",
       "    <tr>\n",
       "      <th>2</th>\n",
       "      <td>1395</td>\n",
       "      <td>2022-02-21 13:42:38+00:00</td>\n",
       "      <td>NaN</td>\n",
       "      <td>PeerChannel(channel_id=1073261085)</td>\n",
       "      <td>NaN</td>\n",
       "      <td>🚇 На станції метро «Контрактова площа» 23 люто...</td>\n",
       "      <td>text</td>\n",
       "      <td>NaN</td>\n",
       "      <td>-1001073261085</td>\n",
       "      <td>0</td>\n",
       "    </tr>\n",
       "    <tr>\n",
       "      <th>3</th>\n",
       "      <td>1394</td>\n",
       "      <td>2022-02-18 19:05:37+00:00</td>\n",
       "      <td>NaN</td>\n",
       "      <td>PeerChannel(channel_id=1073261085)</td>\n",
       "      <td>NaN</td>\n",
       "      <td>📸 Відбудеться \"Фотолюбов НаУКМА\"\\n\\n19.02.22 (...</td>\n",
       "      <td>photo</td>\n",
       "      <td>NaN</td>\n",
       "      <td>-1001073261085</td>\n",
       "      <td>4</td>\n",
       "    </tr>\n",
       "    <tr>\n",
       "      <th>4</th>\n",
       "      <td>1393</td>\n",
       "      <td>2022-02-17 11:30:32+00:00</td>\n",
       "      <td>NaN</td>\n",
       "      <td>PeerChannel(channel_id=1073261085)</td>\n",
       "      <td>NaN</td>\n",
       "      <td>👥 Набір в Асоціацію студентів політологів  \\n\\...</td>\n",
       "      <td>photo</td>\n",
       "      <td>NaN</td>\n",
       "      <td>-1001073261085</td>\n",
       "      <td>3</td>\n",
       "    </tr>\n",
       "  </tbody>\n",
       "</table>\n",
       "</div>"
      ],
      "text/plain": [
       "     id                      date from_id                               to_id  \\\n",
       "0  1397 2022-02-21 19:00:12+00:00     NaN  PeerChannel(channel_id=1073261085)   \n",
       "1  1396 2022-02-21 18:36:27+00:00     NaN  PeerChannel(channel_id=1073261085)   \n",
       "2  1395 2022-02-21 13:42:38+00:00     NaN  PeerChannel(channel_id=1073261085)   \n",
       "3  1394 2022-02-18 19:05:37+00:00     NaN  PeerChannel(channel_id=1073261085)   \n",
       "4  1393 2022-02-17 11:30:32+00:00     NaN  PeerChannel(channel_id=1073261085)   \n",
       "\n",
       "                                            fwd_from  \\\n",
       "0  MessageFwdHeader(date=datetime.datetime(2022, ...   \n",
       "1                                                NaN   \n",
       "2                                                NaN   \n",
       "3                                                NaN   \n",
       "4                                                NaN   \n",
       "\n",
       "                                             message   type  duration  \\\n",
       "0  🔺Любиш-піди! Спудейський вісник №4 \\n\\nПередос...  photo       NaN   \n",
       "1  💣 Офлайн-засідання дебатного клубу\\n\\n23.02.22...  photo       NaN   \n",
       "2  🚇 На станції метро «Контрактова площа» 23 люто...   text       NaN   \n",
       "3  📸 Відбудеться \"Фотолюбов НаУКМА\"\\n\\n19.02.22 (...  photo       NaN   \n",
       "4  👥 Набір в Асоціацію студентів політологів  \\n\\...  photo       NaN   \n",
       "\n",
       "       dialog_id  day_of_week  \n",
       "0 -1001073261085            0  \n",
       "1 -1001073261085            0  \n",
       "2 -1001073261085            0  \n",
       "3 -1001073261085            4  \n",
       "4 -1001073261085            3  "
      ]
     },
     "execution_count": 138,
     "metadata": {},
     "output_type": "execute_result"
    }
   ],
   "source": [
    "df.head(5)"
   ]
  },
  {
   "cell_type": "code",
   "execution_count": 12,
   "id": "8f7d75ce",
   "metadata": {},
   "outputs": [
    {
     "data": {
      "text/plain": [
       "212"
      ]
     },
     "execution_count": 12,
     "metadata": {},
     "output_type": "execute_result"
    }
   ],
   "source": [
    "len(df['dialog_id'].unique())"
   ]
  },
  {
   "cell_type": "markdown",
   "id": "e3ce63b0",
   "metadata": {},
   "source": [
    "3. Find the longest audio message you've ever sent; what's its duration? Make its screenshot (insert your screenshots in this notebook)."
   ]
  },
  {
   "cell_type": "code",
   "execution_count": 13,
   "id": "3c9980d4",
   "metadata": {
    "scrolled": true
   },
   "outputs": [
    {
     "data": {
      "text/html": [
       "<div>\n",
       "<style scoped>\n",
       "    .dataframe tbody tr th:only-of-type {\n",
       "        vertical-align: middle;\n",
       "    }\n",
       "\n",
       "    .dataframe tbody tr th {\n",
       "        vertical-align: top;\n",
       "    }\n",
       "\n",
       "    .dataframe thead th {\n",
       "        text-align: right;\n",
       "    }\n",
       "</style>\n",
       "<table border=\"1\" class=\"dataframe\">\n",
       "  <thead>\n",
       "    <tr style=\"text-align: right;\">\n",
       "      <th></th>\n",
       "      <th>id</th>\n",
       "      <th>date</th>\n",
       "      <th>from_id</th>\n",
       "      <th>to_id</th>\n",
       "      <th>fwd_from</th>\n",
       "      <th>message</th>\n",
       "      <th>type</th>\n",
       "      <th>duration</th>\n",
       "      <th>dialog_id</th>\n",
       "    </tr>\n",
       "  </thead>\n",
       "  <tbody>\n",
       "    <tr>\n",
       "      <th>308770</th>\n",
       "      <td>191869</td>\n",
       "      <td>2021-12-04 10:56:32+00:00</td>\n",
       "      <td>PeerUser(user_id=419413633)</td>\n",
       "      <td>PeerChat(chat_id=468401756)</td>\n",
       "      <td>MessageFwdHeader(date=datetime.datetime(2021, ...</td>\n",
       "      <td>Про Антона Птушкина\\n\\n#Подкаст</td>\n",
       "      <td>voice</td>\n",
       "      <td>765.0</td>\n",
       "      <td>-468401756</td>\n",
       "    </tr>\n",
       "  </tbody>\n",
       "</table>\n",
       "</div>"
      ],
      "text/plain": [
       "            id                      date                      from_id  \\\n",
       "308770  191869 2021-12-04 10:56:32+00:00  PeerUser(user_id=419413633)   \n",
       "\n",
       "                              to_id  \\\n",
       "308770  PeerChat(chat_id=468401756)   \n",
       "\n",
       "                                                 fwd_from  \\\n",
       "308770  MessageFwdHeader(date=datetime.datetime(2021, ...   \n",
       "\n",
       "                                message   type  duration  dialog_id  \n",
       "308770  Про Антона Птушкина\\n\\n#Подкаст  voice     765.0 -468401756  "
      ]
     },
     "execution_count": 13,
     "metadata": {},
     "output_type": "execute_result"
    }
   ],
   "source": [
    "df[df['from_id'].str.contains(str(my_id), na = False)&(df['type']=='voice') ].sort_values(by='duration', ascending=False).head(1)"
   ]
  },
  {
   "attachments": {
    "image.png": {
     "image/png": "[encoded data removed]"
    }
   },
   "cell_type": "markdown",
   "id": "374f6ad1",
   "metadata": {},
   "source": [
    "![image.png](attachment:image.png)"
   ]
  },
  {
   "cell_type": "markdown",
   "id": "78c034e4",
   "metadata": {},
   "source": [
    "4. Calculate numbers of send and received(s&r) messages."
   ]
  },
  {
   "cell_type": "code",
   "execution_count": 14,
   "id": "230ec33e",
   "metadata": {},
   "outputs": [],
   "source": [
    "my_messages = df[(df['from_id'] == my_id) | (df['to_id'] == my_id)]\n",
    "received_messages = len(df[(df['to_id'] == my_id)])\n",
    "send_messages = len(df[(df['from_id'] == \"PeerUser(user_id=419413633)\")])"
   ]
  },
  {
   "cell_type": "code",
   "execution_count": 15,
   "id": "6dd4feef",
   "metadata": {},
   "outputs": [
    {
     "data": {
      "text/plain": [
       "13955"
      ]
     },
     "execution_count": 15,
     "metadata": {},
     "output_type": "execute_result"
    }
   ],
   "source": [
    "my_messages.shape[0]"
   ]
  },
  {
   "cell_type": "code",
   "execution_count": 16,
   "id": "f526dc96",
   "metadata": {
    "scrolled": true
   },
   "outputs": [
    {
     "data": {
      "text/plain": [
       "13955"
      ]
     },
     "execution_count": 16,
     "metadata": {},
     "output_type": "execute_result"
    }
   ],
   "source": [
    "received_messages"
   ]
  },
  {
   "cell_type": "code",
   "execution_count": 17,
   "id": "cc0705d0",
   "metadata": {},
   "outputs": [
    {
     "data": {
      "text/plain": [
       "56668"
      ]
     },
     "execution_count": 17,
     "metadata": {},
     "output_type": "execute_result"
    }
   ],
   "source": [
    "send_messages"
   ]
  },
  {
   "cell_type": "markdown",
   "id": "91fc6baf",
   "metadata": {},
   "source": [
    "5. Draw number of send and received(s&r) messages per day (x-axis - is date(from min(date) till max(date)), y-axis number of messages). There should be two lines: blue for received red for send."
   ]
  },
  {
   "cell_type": "code",
   "execution_count": 18,
   "id": "649d86ae",
   "metadata": {
    "scrolled": true
   },
   "outputs": [
    {
     "name": "stderr",
     "output_type": "stream",
     "text": [
      "C:\\Users\\Admin\\AppData\\Local\\Temp/ipykernel_12632/333339145.py:1: SettingWithCopyWarning: \n",
      "A value is trying to be set on a copy of a slice from a DataFrame.\n",
      "Try using .loc[row_indexer,col_indexer] = value instead\n",
      "\n",
      "See the caveats in the documentation: https://pandas.pydata.org/pandas-docs/stable/user_guide/indexing.html#returning-a-view-versus-a-copy\n",
      "  my_messages['sended'] = np.where(my_messages['from_id'] == my_id, 1, 0)\n",
      "C:\\Users\\Admin\\AppData\\Local\\Temp/ipykernel_12632/333339145.py:2: SettingWithCopyWarning: \n",
      "A value is trying to be set on a copy of a slice from a DataFrame.\n",
      "Try using .loc[row_indexer,col_indexer] = value instead\n",
      "\n",
      "See the caveats in the documentation: https://pandas.pydata.org/pandas-docs/stable/user_guide/indexing.html#returning-a-view-versus-a-copy\n",
      "  my_messages['recieved'] = 1-my_messages['sended']\n"
     ]
    },
    {
     "data": {
      "text/html": [
       "<div>\n",
       "<style scoped>\n",
       "    .dataframe tbody tr th:only-of-type {\n",
       "        vertical-align: middle;\n",
       "    }\n",
       "\n",
       "    .dataframe tbody tr th {\n",
       "        vertical-align: top;\n",
       "    }\n",
       "\n",
       "    .dataframe thead th {\n",
       "        text-align: right;\n",
       "    }\n",
       "</style>\n",
       "<table border=\"1\" class=\"dataframe\">\n",
       "  <thead>\n",
       "    <tr style=\"text-align: right;\">\n",
       "      <th></th>\n",
       "      <th>date</th>\n",
       "      <th>sended</th>\n",
       "      <th>recieved</th>\n",
       "    </tr>\n",
       "  </thead>\n",
       "  <tbody>\n",
       "    <tr>\n",
       "      <th>0</th>\n",
       "      <td>2018-05-28 05:41:27+00:00</td>\n",
       "      <td>0</td>\n",
       "      <td>1</td>\n",
       "    </tr>\n",
       "    <tr>\n",
       "      <th>1</th>\n",
       "      <td>2018-05-28 07:17:23+00:00</td>\n",
       "      <td>0</td>\n",
       "      <td>1</td>\n",
       "    </tr>\n",
       "    <tr>\n",
       "      <th>2</th>\n",
       "      <td>2018-05-28 07:17:28+00:00</td>\n",
       "      <td>0</td>\n",
       "      <td>1</td>\n",
       "    </tr>\n",
       "    <tr>\n",
       "      <th>3</th>\n",
       "      <td>2018-05-28 07:17:45+00:00</td>\n",
       "      <td>0</td>\n",
       "      <td>1</td>\n",
       "    </tr>\n",
       "    <tr>\n",
       "      <th>4</th>\n",
       "      <td>2018-05-28 07:18:00+00:00</td>\n",
       "      <td>0</td>\n",
       "      <td>1</td>\n",
       "    </tr>\n",
       "    <tr>\n",
       "      <th>...</th>\n",
       "      <td>...</td>\n",
       "      <td>...</td>\n",
       "      <td>...</td>\n",
       "    </tr>\n",
       "    <tr>\n",
       "      <th>13465</th>\n",
       "      <td>2022-02-21 13:11:53+00:00</td>\n",
       "      <td>0</td>\n",
       "      <td>1</td>\n",
       "    </tr>\n",
       "    <tr>\n",
       "      <th>13466</th>\n",
       "      <td>2022-02-21 21:44:29+00:00</td>\n",
       "      <td>0</td>\n",
       "      <td>1</td>\n",
       "    </tr>\n",
       "    <tr>\n",
       "      <th>13467</th>\n",
       "      <td>2022-02-21 21:44:41+00:00</td>\n",
       "      <td>0</td>\n",
       "      <td>1</td>\n",
       "    </tr>\n",
       "    <tr>\n",
       "      <th>13468</th>\n",
       "      <td>2022-02-21 21:44:46+00:00</td>\n",
       "      <td>0</td>\n",
       "      <td>1</td>\n",
       "    </tr>\n",
       "    <tr>\n",
       "      <th>13469</th>\n",
       "      <td>2022-02-22 08:51:22+00:00</td>\n",
       "      <td>0</td>\n",
       "      <td>1</td>\n",
       "    </tr>\n",
       "  </tbody>\n",
       "</table>\n",
       "<p>13470 rows × 3 columns</p>\n",
       "</div>"
      ],
      "text/plain": [
       "                           date  sended  recieved\n",
       "0     2018-05-28 05:41:27+00:00       0         1\n",
       "1     2018-05-28 07:17:23+00:00       0         1\n",
       "2     2018-05-28 07:17:28+00:00       0         1\n",
       "3     2018-05-28 07:17:45+00:00       0         1\n",
       "4     2018-05-28 07:18:00+00:00       0         1\n",
       "...                         ...     ...       ...\n",
       "13465 2022-02-21 13:11:53+00:00       0         1\n",
       "13466 2022-02-21 21:44:29+00:00       0         1\n",
       "13467 2022-02-21 21:44:41+00:00       0         1\n",
       "13468 2022-02-21 21:44:46+00:00       0         1\n",
       "13469 2022-02-22 08:51:22+00:00       0         1\n",
       "\n",
       "[13470 rows x 3 columns]"
      ]
     },
     "execution_count": 18,
     "metadata": {},
     "output_type": "execute_result"
    }
   ],
   "source": [
    "my_messages['sended'] = np.where(my_messages['from_id'] == my_id, 1, 0)\n",
    "my_messages['recieved'] = 1-my_messages['sended']\n",
    "my_messages_stat = my_messages.groupby('date', as_index=False)[['sended', 'recieved']].sum()\n",
    "my_messages_stat"
   ]
  },
  {
   "cell_type": "markdown",
   "id": "58e75c55",
   "metadata": {},
   "source": [
    "6. Draw a few diagrams to show distributions between post types in the time, a diagram showing the total amount of messages of each type."
   ]
  },
  {
   "cell_type": "code",
   "execution_count": 227,
   "id": "cfda6068",
   "metadata": {},
   "outputs": [
    {
     "data": {
      "image/png": "[encoded data removed]",
      "text/plain": [
       "<Figure size 432x288 with 1 Axes>"
      ]
     },
     "metadata": {
      "needs_background": "light"
     },
     "output_type": "display_data"
    }
   ],
   "source": [
    "df.groupby('type')['date'].nunique().plot(kind='bar', color = '#7303fc')\n",
    "plt.ylabel('Number of messages')\n",
    "plt.xlabel('Type')\n",
    "plt.title('Message types', fontsize=16)\n",
    "plt.show()\n"
   ]
  },
  {
   "cell_type": "code",
   "execution_count": 228,
   "id": "d41baad2",
   "metadata": {},
   "outputs": [
    {
     "data": {
      "image/png": "[encoded data removed]",
      "text/plain": [
       "<Figure size 432x288 with 1 Axes>"
      ]
     },
     "metadata": {
      "needs_background": "light"
     },
     "output_type": "display_data"
    }
   ],
   "source": [
    "df.groupby('type')['duration'].nunique().plot(kind='bar', color = '#03f8fc')\n",
    "plt.ylabel('Duration')\n",
    "plt.xlabel('Type')\n",
    "plt.title('Longest messages', fontsize=16)\n",
    "plt.show()\n"
   ]
  },
  {
   "cell_type": "code",
   "execution_count": 229,
   "id": "1423c887",
   "metadata": {},
   "outputs": [
    {
     "data": {
      "image/png": "[encoded data removed]",
      "text/plain": [
       "<Figure size 432x288 with 1 Axes>"
      ]
     },
     "metadata": {},
     "output_type": "display_data"
    }
   ],
   "source": [
    "labels = ['Received', 'Sended']\n",
    "colors = ['#f0fc03', '#1cfc03']\n",
    "plt.pie([received_messages, send_messages], labels=labels, colors=colors, autopct='%.2f %%')\n",
    "plt.title('Who writes more?', fontsize=16)\n",
    "plt.show()"
   ]
  },
  {
   "cell_type": "code",
   "execution_count": 230,
   "id": "6bafe901",
   "metadata": {},
   "outputs": [
    {
     "data": {
      "image/png": "[encoded data removed]",
      "text/plain": [
       "<Figure size 432x288 with 1 Axes>"
      ]
     },
     "metadata": {
      "needs_background": "light"
     },
     "output_type": "display_data"
    }
   ],
   "source": [
    "Monday = df[df['day_of_week'] == 0].count()['id']\n",
    "Tuesday = df[df['day_of_week'] == 1].count()['id']\n",
    "Wednesday = df[df['day_of_week'] == 2].count()['id']\n",
    "Thursday = df[df['day_of_week'] == 3].count()['id']\n",
    "Friday = df[df['day_of_week'] == 4].count()['id']\n",
    "Saturday = df[df['day_of_week'] == 5].count()['id']\n",
    "Sunday = df[df['day_of_week'] == 6].count()['id']\n",
    "Week = [Monday,Tuesday,Wednesday,Thursday,Friday,Saturday,Sunday]\n",
    "WeekName = ['Monday','Tuesday','Wednesday','Thursday','Friday','Saturday','Sunday']\n",
    "ax = sns.barplot(y = Week, x = WeekName)\n",
    "ax.set_xticklabels(ax.get_xticklabels(), rotation = 20)\n",
    "plt.title('Messages in every day of week', fontsize=16)\n",
    "plt.show()"
   ]
  },
  {
   "cell_type": "code",
   "execution_count": 231,
   "id": "6c71cb47",
   "metadata": {},
   "outputs": [
    {
     "data": {
      "image/png": "[encoded data removed]",
      "text/plain": [
       "<Figure size 432x288 with 1 Axes>"
      ]
     },
     "metadata": {
      "needs_background": "light"
     },
     "output_type": "display_data"
    }
   ],
   "source": [
    "df.groupby(df.date.dt.year)['message'].count().plot()\n",
    "plt.ylabel('Number of messages')\n",
    "plt.xlabel('Year')\n",
    "plt.title('Amount of received messages', fontsize=16)\n",
    "plt.show()\n"
   ]
  },
  {
   "cell_type": "code",
   "execution_count": 28,
   "id": "f6d68601",
   "metadata": {},
   "outputs": [
    {
     "data": {
      "image/png": "[encoded data removed]",
      "text/plain": [
       "<Figure size 432x288 with 1 Axes>"
      ]
     },
     "metadata": {
      "needs_background": "light"
     },
     "output_type": "display_data"
    }
   ],
   "source": [
    "all = len(df['dialog_id'].unique())\n",
    "groups = df_meta[df_meta['type']=='Group'].groupby('dialog_id', as_index=False).first().shape[0]\n",
    "private_dialogs = df_meta[df_meta['type']=='Private dialog'].groupby('dialog_id', as_index=False).first().shape[0]\n",
    "channels = all - group - private_dialogs\n",
    "types = [groups, private_dialogs, channels]\n",
    "typesName = ['Groups','Private dialogs','Channels']\n",
    "ax = sns.barplot(y = types, x = typesName)\n",
    "ax.set_xticklabels(ax.get_xticklabels(), rotation = 10)\n",
    "plt.title('Chat types', fontsize=16)\n",
    "plt.show()"
   ]
  },
  {
   "cell_type": "code",
   "execution_count": 232,
   "id": "69f944e9",
   "metadata": {},
   "outputs": [
    {
     "data": {
      "image/png": "[encoded data removed]",
      "text/plain": [
       "<Figure size 432x288 with 1 Axes>"
      ]
     },
     "metadata": {},
     "output_type": "display_data"
    }
   ],
   "source": [
    "Night = df[(df['date'].dt.hour>=22) | (df['date'].dt.hour<=4)].count()['date']\n",
    "Day = df.count()['date']-Night\n",
    "Labels = ['Day','Night']\n",
    "Colors = ['#03dffc','#BC4AFE']\n",
    "plt.pie([Day,Night],labels = Labels,colors = Colors, autopct = '%.2f %%')\n",
    "plt.title('Day/night messages', fontsize=16)\n",
    "plt.show()"
   ]
  },
  {
   "cell_type": "markdown",
   "id": "889f4f1e",
   "metadata": {},
   "source": [
    "7. Calculate top-10 people to whom you wrote the biggest amount of messages (name, amount of messages)."
   ]
  },
  {
   "cell_type": "code",
   "execution_count": 233,
   "id": "0d9cd4ec",
   "metadata": {},
   "outputs": [],
   "source": [
    "i_sended = df[df['from_id'].str.contains('419413633', na= False)]\n",
    "i_sended_stats = i_sended.groupby('to_id', as_index=False)['from_id'].count().rename(columns={'from_id':'amount_of_messages', 'to_id':'dialog_id'})\n",
    "top10 = df_meta[['dialog_id', 'name']].merge(i_sended_stats, on='dialog_id', how='inner').sort_values(by='amount_of_messages', ascending=False).iloc[:10, 1:]\n"
   ]
  },
  {
   "cell_type": "code",
   "execution_count": 226,
   "id": "0956dbb2",
   "metadata": {},
   "outputs": [
    {
     "data": {
      "text/plain": [
       "<function matplotlib.pyplot.show(close=None, block=None)>"
      ]
     },
     "execution_count": 226,
     "metadata": {},
     "output_type": "execute_result"
    },
    {
     "data": {
      "image/png": "[encoded data removed]",
      "text/plain": [
       "<Figure size 432x288 with 1 Axes>"
      ]
     },
     "metadata": {},
     "output_type": "display_data"
    }
   ],
   "source": [
    "top1 = top10.iloc[0].amount_of_messages\n",
    "top2 = top10.iloc[1].amount_of_messages\n",
    "top3 = top10.iloc[2].amount_of_messages\n",
    "top4 = top10.iloc[3].amount_of_messages\n",
    "top5 = top10.iloc[4].amount_of_messages\n",
    "people = [top1, top2, top3, top4, top5]\n",
    "colors = ['#03dffc','#BC4AFE', '#fc03f0', '#fcba03', '#03fcad']\n",
    "labels = ['Дежурный по excel', 'Король Катя', 'ark', 'lexus', 'Даня']\n",
    "explode = (.2,.1,.1,.1,.1)\n",
    "plt.pie(people, labels=labels, colors=colors, autopct = '%.2f %%', pctdistance=0.6, explode=explode)\n",
    "plt.title('Top 5 persons to whom i wrote the most', fontsize=16)\n",
    "plt.show"
   ]
  },
  {
   "cell_type": "markdown",
   "id": "65ed05cc",
   "metadata": {},
   "source": [
    "8. Calculate top-10 people who wrote the biggest amount of messages to you (name, amount of messages)."
   ]
  },
  {
   "cell_type": "code",
   "execution_count": null,
   "id": "aabb5b73",
   "metadata": {},
   "outputs": [],
   "source": []
  },
  {
   "cell_type": "markdown",
   "id": "86ed9232",
   "metadata": {},
   "source": [
    "## Task 2.2\n",
    "## Dialogs data analysis"
   ]
  },
  {
   "cell_type": "code",
   "execution_count": 6,
   "id": "313b23f0",
   "metadata": {},
   "outputs": [
    {
     "data": {
      "text/plain": [
       "(962, 4)"
      ]
     },
     "execution_count": 6,
     "metadata": {},
     "output_type": "execute_result"
    }
   ],
   "source": [
    "df_meta.shape"
   ]
  },
  {
   "cell_type": "code",
   "execution_count": 29,
   "id": "5c64029a",
   "metadata": {
    "scrolled": true
   },
   "outputs": [
    {
     "data": {
      "text/plain": [
       "102"
      ]
     },
     "execution_count": 29,
     "metadata": {},
     "output_type": "execute_result"
    }
   ],
   "source": [
    "df_meta[df_meta['type']=='Private dialog'].groupby('dialog_id', as_index=False).first().shape[0]"
   ]
  },
  {
   "cell_type": "code",
   "execution_count": 22,
   "id": "9076dc0a",
   "metadata": {},
   "outputs": [
    {
     "data": {
      "text/html": [
       "<div>\n",
       "<style scoped>\n",
       "    .dataframe tbody tr th:only-of-type {\n",
       "        vertical-align: middle;\n",
       "    }\n",
       "\n",
       "    .dataframe tbody tr th {\n",
       "        vertical-align: top;\n",
       "    }\n",
       "\n",
       "    .dataframe thead th {\n",
       "        text-align: right;\n",
       "    }\n",
       "</style>\n",
       "<table border=\"1\" class=\"dataframe\">\n",
       "  <thead>\n",
       "    <tr style=\"text-align: right;\">\n",
       "      <th></th>\n",
       "      <th>dialog_id</th>\n",
       "      <th>name</th>\n",
       "      <th>type</th>\n",
       "      <th>users</th>\n",
       "    </tr>\n",
       "  </thead>\n",
       "  <tbody>\n",
       "  </tbody>\n",
       "</table>\n",
       "</div>"
      ],
      "text/plain": [
       "Empty DataFrame\n",
       "Columns: [dialog_id, name, type, users]\n",
       "Index: []"
      ]
     },
     "execution_count": 22,
     "metadata": {},
     "output_type": "execute_result"
    }
   ],
   "source": [
    "df_meta[df_meta['name']=='Алексей Шевцов']"
   ]
  },
  {
   "cell_type": "code",
   "execution_count": 23,
   "id": "3e883477",
   "metadata": {},
   "outputs": [
    {
     "data": {
      "text/html": [
       "<div>\n",
       "<style scoped>\n",
       "    .dataframe tbody tr th:only-of-type {\n",
       "        vertical-align: middle;\n",
       "    }\n",
       "\n",
       "    .dataframe tbody tr th {\n",
       "        vertical-align: top;\n",
       "    }\n",
       "\n",
       "    .dataframe thead th {\n",
       "        text-align: right;\n",
       "    }\n",
       "</style>\n",
       "<table border=\"1\" class=\"dataframe\">\n",
       "  <thead>\n",
       "    <tr style=\"text-align: right;\">\n",
       "      <th></th>\n",
       "      <th>id</th>\n",
       "      <th>date</th>\n",
       "      <th>from_id</th>\n",
       "      <th>to_id</th>\n",
       "      <th>fwd_from</th>\n",
       "      <th>message</th>\n",
       "      <th>type</th>\n",
       "      <th>duration</th>\n",
       "      <th>dialog_id</th>\n",
       "    </tr>\n",
       "  </thead>\n",
       "  <tbody>\n",
       "    <tr>\n",
       "      <th>3280</th>\n",
       "      <td>1253</td>\n",
       "      <td>2022-02-15 14:16:59+00:00</td>\n",
       "      <td>NaN</td>\n",
       "      <td>PeerChannel(channel_id=1158535533)</td>\n",
       "      <td>NaN</td>\n",
       "      <td>Фух, гайсы, наконец-то провел свой первый стри...</td>\n",
       "      <td>photo</td>\n",
       "      <td>NaN</td>\n",
       "      <td>-1001158535533</td>\n",
       "    </tr>\n",
       "    <tr>\n",
       "      <th>346890</th>\n",
       "      <td>215680</td>\n",
       "      <td>2022-02-15 14:20:52+00:00</td>\n",
       "      <td>PeerUser(user_id=419413633)</td>\n",
       "      <td>371105962</td>\n",
       "      <td>MessageFwdHeader(date=datetime.datetime(2022, ...</td>\n",
       "      <td>Фух, гайсы, наконец-то провел свой первый стри...</td>\n",
       "      <td>photo</td>\n",
       "      <td>NaN</td>\n",
       "      <td>371105962</td>\n",
       "    </tr>\n",
       "  </tbody>\n",
       "</table>\n",
       "</div>"
      ],
      "text/plain": [
       "            id                       date                      from_id  \\\n",
       "3280      1253  2022-02-15 14:16:59+00:00                          NaN   \n",
       "346890  215680  2022-02-15 14:20:52+00:00  PeerUser(user_id=419413633)   \n",
       "\n",
       "                                     to_id  \\\n",
       "3280    PeerChannel(channel_id=1158535533)   \n",
       "346890                           371105962   \n",
       "\n",
       "                                                 fwd_from  \\\n",
       "3280                                                  NaN   \n",
       "346890  MessageFwdHeader(date=datetime.datetime(2022, ...   \n",
       "\n",
       "                                                  message   type  duration  \\\n",
       "3280    Фух, гайсы, наконец-то провел свой первый стри...  photo       NaN   \n",
       "346890  Фух, гайсы, наконец-то провел свой первый стри...  photo       NaN   \n",
       "\n",
       "            dialog_id  \n",
       "3280   -1001158535533  \n",
       "346890      371105962  "
      ]
     },
     "execution_count": 23,
     "metadata": {},
     "output_type": "execute_result"
    }
   ],
   "source": [
    "df[df['message']=='Фух, гайсы, наконец-то провел свой первый стрим на Твиче! Было кринжово, но весело, пару тиктоков реально вынесли. В целом ни кого не угнетнули, потому получилось норм.']"
   ]
  },
  {
   "cell_type": "code",
   "execution_count": 24,
   "id": "1c16e6cc",
   "metadata": {},
   "outputs": [
    {
     "data": {
      "text/html": [
       "<div>\n",
       "<style scoped>\n",
       "    .dataframe tbody tr th:only-of-type {\n",
       "        vertical-align: middle;\n",
       "    }\n",
       "\n",
       "    .dataframe tbody tr th {\n",
       "        vertical-align: top;\n",
       "    }\n",
       "\n",
       "    .dataframe thead th {\n",
       "        text-align: right;\n",
       "    }\n",
       "</style>\n",
       "<table border=\"1\" class=\"dataframe\">\n",
       "  <thead>\n",
       "    <tr style=\"text-align: right;\">\n",
       "      <th></th>\n",
       "      <th>dialog_id</th>\n",
       "      <th>name</th>\n",
       "      <th>type</th>\n",
       "      <th>users</th>\n",
       "    </tr>\n",
       "  </thead>\n",
       "  <tbody>\n",
       "    <tr>\n",
       "      <th>891</th>\n",
       "      <td>371105962</td>\n",
       "      <td>Тим</td>\n",
       "      <td>Private dialog</td>\n",
       "      <td>{'user_id': 371105962, 'first_name': 'Тим', 'l...</td>\n",
       "    </tr>\n",
       "  </tbody>\n",
       "</table>\n",
       "</div>"
      ],
      "text/plain": [
       "     dialog_id name            type  \\\n",
       "891  371105962  Тим  Private dialog   \n",
       "\n",
       "                                                 users  \n",
       "891  {'user_id': 371105962, 'first_name': 'Тим', 'l...  "
      ]
     },
     "execution_count": 24,
     "metadata": {},
     "output_type": "execute_result"
    }
   ],
   "source": [
    "df_meta[df_meta['dialog_id']==371105962]"
   ]
  },
  {
   "cell_type": "code",
   "execution_count": 23,
   "id": "ef6f51b9",
   "metadata": {},
   "outputs": [
    {
     "data": {
      "text/html": [
       "<div>\n",
       "<style scoped>\n",
       "    .dataframe tbody tr th:only-of-type {\n",
       "        vertical-align: middle;\n",
       "    }\n",
       "\n",
       "    .dataframe tbody tr th {\n",
       "        vertical-align: top;\n",
       "    }\n",
       "\n",
       "    .dataframe thead th {\n",
       "        text-align: right;\n",
       "    }\n",
       "</style>\n",
       "<table border=\"1\" class=\"dataframe\">\n",
       "  <thead>\n",
       "    <tr style=\"text-align: right;\">\n",
       "      <th></th>\n",
       "      <th>dialog_id</th>\n",
       "      <th>name</th>\n",
       "      <th>type</th>\n",
       "      <th>users</th>\n",
       "    </tr>\n",
       "  </thead>\n",
       "  <tbody>\n",
       "    <tr>\n",
       "      <th>0</th>\n",
       "      <td>-1001172475464</td>\n",
       "      <td>ZXC тусовка (играем на публику с колонкой Некита)</td>\n",
       "      <td>Group</td>\n",
       "      <td>{'user_id': 855734991, 'first_name': 'Богдан',...</td>\n",
       "    </tr>\n",
       "    <tr>\n",
       "      <th>1</th>\n",
       "      <td>-1001172475464</td>\n",
       "      <td>ZXC тусовка (играем на публику с колонкой Некита)</td>\n",
       "      <td>Group</td>\n",
       "      <td>{'user_id': 497713871, 'first_name': 'Богдан',...</td>\n",
       "    </tr>\n",
       "    <tr>\n",
       "      <th>2</th>\n",
       "      <td>-1001172475464</td>\n",
       "      <td>ZXC тусовка (играем на публику с колонкой Некита)</td>\n",
       "      <td>Group</td>\n",
       "      <td>{'user_id': 508018772, 'first_name': 'lexus', ...</td>\n",
       "    </tr>\n",
       "    <tr>\n",
       "      <th>3</th>\n",
       "      <td>-1001172475464</td>\n",
       "      <td>ZXC тусовка (играем на публику с колонкой Некита)</td>\n",
       "      <td>Group</td>\n",
       "      <td>{'user_id': 716096216, 'first_name': 'ark', 'l...</td>\n",
       "    </tr>\n",
       "    <tr>\n",
       "      <th>4</th>\n",
       "      <td>-1001172475464</td>\n",
       "      <td>ZXC тусовка (играем на публику с колонкой Некита)</td>\n",
       "      <td>Group</td>\n",
       "      <td>{'user_id': 387335969, 'first_name': 'Олександ...</td>\n",
       "    </tr>\n",
       "    <tr>\n",
       "      <th>5</th>\n",
       "      <td>-1001172475464</td>\n",
       "      <td>ZXC тусовка (играем на публику с колонкой Некита)</td>\n",
       "      <td>Group</td>\n",
       "      <td>{'user_id': 419413633, 'first_name': 'Никита',...</td>\n",
       "    </tr>\n",
       "    <tr>\n",
       "      <th>6</th>\n",
       "      <td>-1001228529852</td>\n",
       "      <td>Suorin Доставки</td>\n",
       "      <td>Group</td>\n",
       "      <td>{'user_id': 144810426, 'first_name': 'Даня', '...</td>\n",
       "    </tr>\n",
       "    <tr>\n",
       "      <th>7</th>\n",
       "      <td>-1001228529852</td>\n",
       "      <td>Suorin Доставки</td>\n",
       "      <td>Group</td>\n",
       "      <td>{'user_id': 419413633, 'first_name': 'Никита',...</td>\n",
       "    </tr>\n",
       "    <tr>\n",
       "      <th>8</th>\n",
       "      <td>-1001235499976</td>\n",
       "      <td>Группа 3,4 Киря</td>\n",
       "      <td>Group</td>\n",
       "      <td>{'user_id': 409349016, 'first_name': 'Марічка🐸...</td>\n",
       "    </tr>\n",
       "    <tr>\n",
       "      <th>9</th>\n",
       "      <td>-1001235499976</td>\n",
       "      <td>Группа 3,4 Киря</td>\n",
       "      <td>Group</td>\n",
       "      <td>{'user_id': 544639169, 'first_name': 'natasha'...</td>\n",
       "    </tr>\n",
       "  </tbody>\n",
       "</table>\n",
       "</div>"
      ],
      "text/plain": [
       "       dialog_id                                               name   type  \\\n",
       "0 -1001172475464  ZXC тусовка (играем на публику с колонкой Некита)  Group   \n",
       "1 -1001172475464  ZXC тусовка (играем на публику с колонкой Некита)  Group   \n",
       "2 -1001172475464  ZXC тусовка (играем на публику с колонкой Некита)  Group   \n",
       "3 -1001172475464  ZXC тусовка (играем на публику с колонкой Некита)  Group   \n",
       "4 -1001172475464  ZXC тусовка (играем на публику с колонкой Некита)  Group   \n",
       "5 -1001172475464  ZXC тусовка (играем на публику с колонкой Некита)  Group   \n",
       "6 -1001228529852                                    Suorin Доставки  Group   \n",
       "7 -1001228529852                                    Suorin Доставки  Group   \n",
       "8 -1001235499976                                    Группа 3,4 Киря  Group   \n",
       "9 -1001235499976                                    Группа 3,4 Киря  Group   \n",
       "\n",
       "                                               users  \n",
       "0  {'user_id': 855734991, 'first_name': 'Богдан',...  \n",
       "1  {'user_id': 497713871, 'first_name': 'Богдан',...  \n",
       "2  {'user_id': 508018772, 'first_name': 'lexus', ...  \n",
       "3  {'user_id': 716096216, 'first_name': 'ark', 'l...  \n",
       "4  {'user_id': 387335969, 'first_name': 'Олександ...  \n",
       "5  {'user_id': 419413633, 'first_name': 'Никита',...  \n",
       "6  {'user_id': 144810426, 'first_name': 'Даня', '...  \n",
       "7  {'user_id': 419413633, 'first_name': 'Никита',...  \n",
       "8  {'user_id': 409349016, 'first_name': 'Марічка🐸...  \n",
       "9  {'user_id': 544639169, 'first_name': 'natasha'...  "
      ]
     },
     "execution_count": 23,
     "metadata": {},
     "output_type": "execute_result"
    }
   ],
   "source": [
    "df_meta.head(10)"
   ]
  },
  {
   "cell_type": "code",
   "execution_count": 16,
   "id": "186f2f67",
   "metadata": {},
   "outputs": [
    {
     "data": {
      "text/plain": [
       "type\n",
       "Group             860\n",
       "Private dialog    102\n",
       "Name: type, dtype: int64"
      ]
     },
     "execution_count": 16,
     "metadata": {},
     "output_type": "execute_result"
    }
   ],
   "source": [
    "df_meta.groupby([\"type\"])[\"type\"].count()"
   ]
  },
  {
   "cell_type": "markdown",
   "id": "c5b3d2d9",
   "metadata": {},
   "source": [
    "## Tasks to do:\n",
    "\n",
    "1. Find our TG group. Print its id and list of participants."
   ]
  },
  {
   "cell_type": "code",
   "execution_count": 25,
   "id": "def4abf2",
   "metadata": {},
   "outputs": [
    {
     "name": "stdout",
     "output_type": "stream",
     "text": [
      "{'my_tg_group_id': -1001787503050, 'users': [['Олександр Верещак', 'Bench_S'], ['Andrew', 'SanGreel'], ['Alex', 'just_me_alex'], ['Тим', 'bellatorio'], ['Король', 'cutebutpsychooo'], ['yyuuuurrrrrrraaaaaa', 'antianti06'], ['Ярослав', 'kushyndra'], ['Богдан', 'Bhurskyy'], ['ARINA', 'darlingvillain'], ['Андрей', 'Andrey_Khoptiy'], ['Влад', 'Vladon32'], ['Куземко', 'yasyakuzya'], ['Liza Andrych', 'liza_andrych'], ['Aleksandr', 'averkin_aleksandrr'], ['Анастасия', 'kryzhikk'], ['natasha', 'nnattashaaaa'], ['∆аша', 'dosshhhik'], ['anhelina', 'br00klynbaby'], ['маша', 'mostovama'], ['Egor', 'bolotovyehor'], ['Олег', 'Qrannik'], ['ark', 'arkahahaker'], ['Bohdan', 'bohdan_romanchuk'], ['Роман', 'roterentiev'], ['Cristina', 'cristiiina'], ['Petro.maliuk@wze_w_drova', 'Petro_king_of_tsygans'], ['Арсен', 'arsen_doinychko'], ['Yullya', 'VerbikYullya'], ['Богдан', 'el_beasto'], ['iva', 'Niva228'], ['Ana.sta.sia', 'aana_sta_siaa'], ['Yuliia', 'datulka'], ['Vlaad', 'vladkoval03'], ['Masha', 'daisyy_flowerr'], ['Viktoriia', 'thisisvika'], ['Никита', 'nikitkasavenko'], ['Pavlo Yashchenko', 'Lord_4ikkamony'], ['Aня', 'ann_gn'], ['уля', 'ulia_skar'], ['Катя', 'luch_ka']]}\n"
     ]
    }
   ],
   "source": [
    "my_group = df_meta[df_meta['name'].str.contains('CSS_01_2022_KMA')].reset_index(drop=True)\n",
    "my_group['users'] = my_group['users'].apply(lambda x: eval(x))\n",
    "list_users = my_group['users'].apply(lambda x: [x['first_name'] , x['username']]).to_list()\n",
    "print({'my_tg_group_id': my_group['dialog_id'].unique()[0], 'users': list_users})"
   ]
  },
  {
   "cell_type": "markdown",
   "id": "d06390fc",
   "metadata": {},
   "source": [
    "2. Draw distribution of group sizes."
   ]
  },
  {
   "cell_type": "code",
   "execution_count": 26,
   "id": "2e6f96dc",
   "metadata": {},
   "outputs": [
    {
     "data": {
      "image/png": "[encoded data removed]",
      "text/plain": [
       "<Figure size 432x288 with 1 Axes>"
      ]
     },
     "metadata": {
      "needs_background": "light"
     },
     "output_type": "display_data"
    }
   ],
   "source": [
    "groups = df_meta[df_meta['type'] == 'Group']\n",
    "groups_stat = groups.groupby('name', as_index=False)['users'].count()\n",
    "groups_stat = groups_stat.merge(groups[['name']], on='name', how='inner').groupby('name', as_index=False).last()\n",
    "groups_stat = groups_stat.sort_values(by='users', ascending=False).iloc[:10]\n",
    "groups_stat['name'] = groups_stat['name'].astype('str')\n",
    "\n",
    "sns.barplot(x=groups_stat['name'], y=groups_stat['users'],)\n",
    "plt.xticks(rotation=90)\n",
    "plt.show()"
   ]
  },
  {
   "cell_type": "markdown",
   "id": "b4f2d15e",
   "metadata": {},
   "source": [
    "3. Calculate top-10 the biggest groups/channels."
   ]
  },
  {
   "cell_type": "code",
   "execution_count": 27,
   "id": "5ed5cb7c",
   "metadata": {},
   "outputs": [
    {
     "data": {
      "image/png": "[encoded data removed]",
      "text/plain": [
       "<Figure size 432x288 with 1 Axes>"
      ]
     },
     "metadata": {
      "needs_background": "light"
     },
     "output_type": "display_data"
    }
   ],
   "source": [
    "groups_chanels = df_meta[(df_meta['type'] == 'Group') | (df_meta['type'] == 'Channel')]\n",
    "groups_chanels_stat = groups_chanels.groupby('name', as_index=False)['users'].count()\n",
    "groups_chanels_stat = groups_chanels_stat.merge(groups_chanels[['name']], on='name', how='inner').groupby('name', as_index=False).last()\n",
    "groups_chanels_stat = groups_chanels_stat.sort_values(by='users', ascending=False).iloc[:10]\n",
    "groups_chanels_stat['name'] = groups_chanels_stat['name'].astype('str')\n",
    "\n",
    "sns.barplot(x=groups_chanels_stat['name'], y=groups_chanels_stat['users'],)\n",
    "plt.xticks(rotation=90)\n",
    "plt.show()"
   ]
  },
  {
   "cell_type": "markdown",
   "id": "a016039e",
   "metadata": {},
   "source": [
    "4. Calculate the number of distinct user names you are connected to through any type of dialogue."
   ]
  },
  {
   "cell_type": "code",
   "execution_count": 28,
   "id": "f84557f5",
   "metadata": {},
   "outputs": [
    {
     "data": {
      "text/plain": [
       "325"
      ]
     },
     "execution_count": 28,
     "metadata": {},
     "output_type": "execute_result"
    }
   ],
   "source": [
    "len(df_meta['users'].unique())"
   ]
  },
  {
   "cell_type": "code",
   "execution_count": null,
   "id": "e090ec41",
   "metadata": {},
   "outputs": [],
   "source": []
  }
 ],
 "metadata": {
  "kernelspec": {
   "display_name": "Python 3 (ipykernel)",
   "language": "python",
   "name": "python3"
  },
  "language_info": {
   "codemirror_mode": {
    "name": "ipython",
    "version": 3
   },
   "file_extension": ".py",
   "mimetype": "text/x-python",
   "name": "python",
   "nbconvert_exporter": "python",
   "pygments_lexer": "ipython3",
   "version": "3.9.7"
  }
 },
 "nbformat": 4,
 "nbformat_minor": 5
}
